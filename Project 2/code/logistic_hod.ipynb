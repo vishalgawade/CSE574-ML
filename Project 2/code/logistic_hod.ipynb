{
 "cells": [
  {
   "cell_type": "markdown",
   "metadata": {},
   "source": [
    "# By default hod concat will run.To change it to hod sub please change RawTarget and RawData path"
   ]
  },
  {
   "cell_type": "code",
   "execution_count": 1,
   "metadata": {},
   "outputs": [],
   "source": [
    "from sklearn.cluster import KMeans\n",
    "import numpy as np\n",
    "import csv\n",
    "import math\n",
    "import matplotlib.pyplot\n",
    "from matplotlib import pyplot as plt\n",
    "import pandas as pd;"
   ]
  },
  {
   "cell_type": "code",
   "execution_count": 2,
   "metadata": {},
   "outputs": [],
   "source": [
    "maxAcc = 0.0\n",
    "maxIter = 0\n",
    "C_Lambda = 0.9\n",
    "TrainingPercent = 80\n",
    "ValidationPercent = 10\n",
    "TestPercent = 10\n",
    "M = 9\n",
    "PHI = []\n",
    "IsSynthetic = False"
   ]
  },
  {
   "cell_type": "code",
   "execution_count": 3,
   "metadata": {},
   "outputs": [],
   "source": [
    "#gives us target vector which consist actually i.e.0,1\n",
    "def GetTargetVector(filePath):\n",
    "    t = []\n",
    "    with open(filePath, 'rU') as f:\n",
    "        reader = csv.reader(f)\n",
    "        for row in reader:  \n",
    "            t.append(int(row[0]))\n",
    "            #print(int(row[0]))\n",
    "    #print(\"Raw Training Generated..\")\n",
    "    return t\n",
    "\n",
    "#gets 46 features from file and deletes five columns because there values always zero in all rows\n",
    "def GenerateRawData(filePath):    \n",
    "    dataMatrix = [] \n",
    "    with open(filePath, 'rU') as fi:\n",
    "        reader = csv.reader(fi)\n",
    "        for row in reader:\n",
    "            dataRow = []\n",
    "            for column in row:\n",
    "                dataRow.append(float(column)+0.0002);\n",
    "            dataMatrix.append(dataRow) \n",
    "            #print(dataRow)\n",
    "    \n",
    "#     if IsSynthetic == False :\n",
    "#         dataMatrix = np.delete(dataMatrix, [5,6,7,8,9], axis=1)\n",
    "   # print(dataMatrix.shape)\n",
    "    dataMatrix = np.transpose(dataMatrix)  \n",
    "   # print(dataMatrix.shape)\n",
    "    #print (\"Data Matrix Generated..\")\n",
    "    return dataMatrix\n",
    "\n",
    "#gets target matrix 80% to compare results of training matrix result\n",
    "def GenerateTrainingTarget(rawTraining,TrainingPercent = 80):\n",
    "    TrainingLen = int(math.ceil(len(rawTraining)*(TrainingPercent*0.01)))\n",
    "    t           = rawTraining[:TrainingLen]\n",
    "    #print(str(TrainingPercent) + \"% Training Target Generated..\")\n",
    "    #print(t)\n",
    "    #print(TrainingLen)\n",
    "    return t\n",
    "\n",
    "#gets 80% rows as traning data \n",
    "def GenerateTrainingDataMatrix(rawData, TrainingPercent = 80):\n",
    "    T_len = int(math.ceil(len(rawData[0])*0.01*TrainingPercent))\n",
    "    d2 = rawData[:,0:T_len]\n",
    "    #print(str(TrainingPercent) + \"% Training Data Generated..\")\n",
    "    #print(T_len)\n",
    "    return d2\n",
    "\n",
    "#gets validation matrix i.e. 10% of raw data\n",
    "def GenerateValData(rawData, ValPercent, TrainingCount): \n",
    "    valSize = int(math.ceil(len(rawData[0])*ValPercent*0.01))\n",
    "    V_End = TrainingCount + valSize\n",
    "    dataMatrix = rawData[:,TrainingCount+1:V_End]\n",
    "    #print (str(ValPercent) + \"% Val Data Generated..\")  \n",
    "    return dataMatrix\n",
    "\n",
    "#gets target matrix  10% to compare results of validation matrix result\n",
    "def GenerateValTargetVector(rawData, ValPercent, TrainingCount): \n",
    "    valSize = int(math.ceil(len(rawData)*ValPercent*0.01))\n",
    "    V_End = TrainingCount + valSize\n",
    "    t =rawData[TrainingCount+1:V_End]\n",
    "    #print (str(ValPercent) + \"% Val Target Data Generated..\")\n",
    "    return t\n",
    "\n",
    "#not using parameter MuMatrix,redundant parameter;its inverse to calculate Phi value, which is used to calculate basis function\n",
    "def GenerateBigSigma(Data, MuMatrix,TrainingPercent,IsSynthetic):\n",
    "    BigSigma    = np.zeros((len(Data),len(Data)))\n",
    "    DataT       = np.transpose(Data)\n",
    "    TrainingLen = math.ceil(len(DataT)*(TrainingPercent*0.01))        \n",
    "    varVect     = []\n",
    "    for i in range(0,len(DataT[0])):\n",
    "        vct = []\n",
    "        for j in range(0,int(TrainingLen)):\n",
    "            vct.append(Data[i][j])    \n",
    "        varVect.append(np.var(vct))\n",
    "    \n",
    "    for j in range(len(Data)):\n",
    "        BigSigma[j][j] = varVect[j]\n",
    "    if IsSynthetic == True:\n",
    "        BigSigma = np.dot(3,BigSigma)\n",
    "    else:\n",
    "        BigSigma = np.dot(200,BigSigma)\n",
    "    ##print (\"BigSigma Generated..\")\n",
    "    #print(BigSigma)\n",
    "    return BigSigma\n",
    "\n",
    "def GetScalar(DataRow,MuRow, BigSigInv):  \n",
    "    R = np.subtract(DataRow,MuRow)\n",
    "    T = np.dot(BigSigInv,np.transpose(R))  \n",
    "    L = np.dot(R,T)\n",
    "    return L\n",
    "\n",
    "def GetRadialBasisOut(DataRow,MuRow, BigSigInv):    \n",
    "    phi_x = math.exp(-0.5*GetScalar(DataRow,MuRow,BigSigInv))\n",
    "    return phi_x\n",
    "\n",
    "#converts input vector to scalar value\n",
    "def GetPhiMatrix(Data, MuMatrix, BigSigma, TrainingPercent = 80):\n",
    "    DataT = np.transpose(Data)\n",
    "    TrainingLen = math.ceil(len(DataT)*(TrainingPercent*0.01))         \n",
    "    PHI = np.zeros((int(TrainingLen),len(MuMatrix))) \n",
    "    BigSigInv = np.linalg.inv(BigSigma)\n",
    "    for  C in range(0,len(MuMatrix)):\n",
    "        for R in range(0,int(TrainingLen)):\n",
    "            PHI[R][C] = GetRadialBasisOut(DataT[R], MuMatrix[C], BigSigInv)\n",
    "    #print (\"PHI Generated..\")\n",
    "    return PHI\n",
    "\n",
    "#calculates closed form solution with least square regularisation\n",
    "def GetWeightsClosedForm(PHI, T, Lambda):\n",
    "    Lambda_I = np.identity(len(PHI[0]))\n",
    "    for i in range(0,len(PHI[0])):\n",
    "        Lambda_I[i][i] = Lambda\n",
    "    PHI_T       = np.transpose(PHI)\n",
    "    PHI_SQR     = np.dot(PHI_T,PHI)\n",
    "    PHI_SQR_LI  = np.add(Lambda_I,PHI_SQR)\n",
    "    PHI_SQR_INV = np.linalg.inv(PHI_SQR_LI)\n",
    "    INTER       = np.dot(PHI_SQR_INV, PHI_T)\n",
    "    W           = np.dot(INTER, T)\n",
    "    ##print (\"Training Weights Generated..\")\n",
    "    return W\n",
    "\n",
    "def GetPhiMatrix(Data, MuMatrix, BigSigma, TrainingPercent = 80):\n",
    "    DataT = np.transpose(Data)\n",
    "    TrainingLen = math.ceil(len(DataT)*(TrainingPercent*0.01)) \n",
    "    print(TrainingLen)\n",
    "    PHI = np.zeros((int(TrainingLen),len(MuMatrix))) \n",
    "    BigSigInv = np.linalg.inv(BigSigma)\n",
    "    for  C in range(0,len(MuMatrix)):\n",
    "        for R in range(0,int(TrainingLen)):\n",
    "            PHI[R][C] = GetRadialBasisOut(DataT[R], MuMatrix[C], BigSigInv)\n",
    "    #print (\"PHI Generated..\")\n",
    "    return PHI\n",
    "\n",
    "def GetValTest(VAL_PHI,W):\n",
    "    Y = np.dot(W,np.transpose(VAL_PHI))\n",
    "    ##print (\"Test Out Generated..\")\n",
    "    return Y\n",
    "\n",
    "#find rms of dataset and our goal is to minimize this error\n",
    "def GetErms(VAL_TEST_OUT,ValDataAct):\n",
    "    sum = 0.0\n",
    "    t=0\n",
    "    accuracy = 0.0\n",
    "    counter = 0\n",
    "    val = 0.0\n",
    "    for i in range (0,len(VAL_TEST_OUT)):\n",
    "        sum = sum + math.pow((ValDataAct[i] - VAL_TEST_OUT[i]),2)\n",
    "        if(int(np.around(VAL_TEST_OUT[i], 0)) == ValDataAct[i]):\n",
    "            counter+=1\n",
    "    accuracy = (float((counter*100))/float(len(VAL_TEST_OUT)))\n",
    "    ##print (\"Accuracy Generated..\")\n",
    "    ##print (\"Validation E_RMS : \" + str(math.sqrt(sum/len(VAL_TEST_OUT))))\n",
    "    return (str(accuracy) + ',' +  str(math.sqrt(sum/len(VAL_TEST_OUT))))\n",
    "\n",
    "##generate key value pair of data set; key:imgae_id,value:features\n",
    "def GenerateMap(filePath):\n",
    "    Map = {}\n",
    "    with open(filePath, 'rU') as fi:\n",
    "        reader = csv.reader(fi);\n",
    "        next(reader);\n",
    "        for row in reader:\n",
    "            i=0;\n",
    "            list=[];\n",
    "            for column in row:\n",
    "                if(i==1):\n",
    "                    key=column;\n",
    "                elif(i>1) :\n",
    "                    list.append(int(column));\n",
    "                i=i+1\n",
    "            Map[key] = list;\n",
    "            #print(Map[key]);\n",
    "    return Map;\n",
    "\n",
    "##returns subtraction and concatination list of given csv image_id pairs\n",
    "def GenerateConcatList(filePath,KVMap):\n",
    "    Map = {}\n",
    "    with open(filePath, 'rU') as fi:\n",
    "        reader = csv.reader(fi);\n",
    "        next(reader);\n",
    "        sub = [];\n",
    "        target = [];\n",
    "        conca = [];\n",
    "        for row in reader:\n",
    "            i=0;\n",
    "            c1=[];\n",
    "            c2=[];\n",
    "            for column in row:\n",
    "                if(i==2):\n",
    "                    target.append(int(column));\n",
    "                elif(i==0) :\n",
    "                    c1=KVMap[column];\n",
    "                elif(i==1):\n",
    "                    c2 = KVMap[column];\n",
    "                i = i + 1;\n",
    "            myList=c1+c2;\n",
    "            myList.extend([int(column)])\n",
    "            conca.append(myList);\n",
    "            subtract=np.subtract(c1,c2);\n",
    "            subtract=np.append(subtract,int(column));\n",
    "            sub.append(subtract);\n",
    "\n",
    "        Map[\"target\"] = target;\n",
    "        Map[\"sub\"] = sub;\n",
    "        Map[\"concat\"] = conca;\n",
    "            #print(Map[key]);\n",
    "    return Map;\n",
    "\n",
    "#for logistic regression\n",
    "def GetSigmoidValTest(VAL_PHI,W):\n",
    "#   Y = np.dot(W,np.transpose(VAL_PHI))\n",
    "    Y = (1/(1+np.e**(-np.dot(VAL_PHI,np.transpose(W)))))\n",
    "    #print (\"Y value\")\n",
    "#   print(Y)\n",
    "    return Y"
   ]
  },
  {
   "cell_type": "markdown",
   "metadata": {},
   "source": [
    "## Fetch and Prepare Dataset for HOD"
   ]
  },
  {
   "cell_type": "code",
   "execution_count": 4,
   "metadata": {},
   "outputs": [
    {
     "name": "stderr",
     "output_type": "stream",
     "text": [
      "/Library/Frameworks/Python.framework/Versions/3.6/lib/python3.6/site-packages/ipykernel_launcher.py:4: DeprecationWarning: 'U' mode is deprecated\n",
      "  after removing the cwd from sys.path.\n",
      "/Library/Frameworks/Python.framework/Versions/3.6/lib/python3.6/site-packages/ipykernel_launcher.py:15: DeprecationWarning: 'U' mode is deprecated\n",
      "  from ipykernel import kernelapp as app\n"
     ]
    }
   ],
   "source": [
    "#use hod cell to calculate erms for HOD dataset\n",
    "\n",
    "RawTarget = GetTargetVector('HODtargetConcat.csv')\n",
    "RawData   = GenerateRawData('HODfeaturesConcat.csv')\n",
    "\n",
    "# RawTarget = GetTargetVector('HODtargetSub.csv')\n",
    "# RawData   = GenerateRawData('HODfeaturesSub.csv')\n"
   ]
  },
  {
   "cell_type": "markdown",
   "metadata": {},
   "source": [
    "## Prepare Training Data"
   ]
  },
  {
   "cell_type": "code",
   "execution_count": 5,
   "metadata": {},
   "outputs": [
    {
     "name": "stdout",
     "output_type": "stream",
     "text": [
      "(1266,)\n",
      "(18, 1266)\n"
     ]
    }
   ],
   "source": [
    "TrainingTarget = np.array(GenerateTrainingTarget(RawTarget,TrainingPercent))\n",
    "TrainingData   = GenerateTrainingDataMatrix(RawData,TrainingPercent)\n",
    "print(TrainingTarget.shape)\n",
    "print(TrainingData.shape)"
   ]
  },
  {
   "cell_type": "markdown",
   "metadata": {},
   "source": [
    "## Prepare Validation Data"
   ]
  },
  {
   "cell_type": "code",
   "execution_count": 6,
   "metadata": {},
   "outputs": [
    {
     "name": "stdout",
     "output_type": "stream",
     "text": [
      "(158,)\n",
      "(18, 158)\n"
     ]
    }
   ],
   "source": [
    "ValDataAct = np.array(GenerateValTargetVector(RawTarget,ValidationPercent, (len(TrainingTarget))))\n",
    "ValData    = GenerateValData(RawData,ValidationPercent, (len(TrainingTarget)))\n",
    "print(ValDataAct.shape)\n",
    "print(ValData.shape)"
   ]
  },
  {
   "cell_type": "markdown",
   "metadata": {},
   "source": [
    "## Prepare Test Data"
   ]
  },
  {
   "cell_type": "code",
   "execution_count": 7,
   "metadata": {},
   "outputs": [
    {
     "name": "stdout",
     "output_type": "stream",
     "text": [
      "(158,)\n",
      "(18, 158)\n"
     ]
    }
   ],
   "source": [
    "TestDataAct = np.array(GenerateValTargetVector(RawTarget,TestPercent, (len(TrainingTarget)+len(ValDataAct))))\n",
    "TestData = GenerateValData(RawData,TestPercent, (len(TrainingTarget)+len(ValDataAct)))\n",
    "print(ValDataAct.shape)\n",
    "print(ValData.shape)"
   ]
  },
  {
   "cell_type": "markdown",
   "metadata": {},
   "source": [
    "# Gradient Descent solution (HOD) for Logistic Regression"
   ]
  },
  {
   "cell_type": "markdown",
   "metadata": {},
   "source": [
    "# Calculating phi matrix"
   ]
  },
  {
   "cell_type": "code",
   "execution_count": 8,
   "metadata": {},
   "outputs": [
    {
     "name": "stdout",
     "output_type": "stream",
     "text": [
      "1266\n",
      "157\n",
      "158\n",
      "(2, 18)\n",
      "(18, 18)\n",
      "(1266, 2)\n",
      "(2,)\n",
      "(158, 2)\n",
      "(157, 2)\n"
     ]
    }
   ],
   "source": [
    "M1=2\n",
    "ErmsArr = []\n",
    "AccuracyArr = []\n",
    "#Using K-means clustering to find basis function.\n",
    "kmeans = KMeans(n_clusters=M1, random_state=0).fit(np.transpose(TrainingData))\n",
    "#setting the value of centroid for Gaussian Radial basis function\n",
    "Mu = kmeans.cluster_centers_\n",
    "\n",
    "#whole block of below lines perform linear regression,which is used to find Erms.\n",
    "#generates diagonal matrix.\n",
    "BigSigma     = GenerateBigSigma(RawData, Mu, TrainingPercent,IsSynthetic)\n",
    "#print(BigSigma)\n",
    "TRAINING_PHI = GetPhiMatrix(RawData, Mu, BigSigma, TrainingPercent)\n",
    "W            = GetWeightsClosedForm(TRAINING_PHI,TrainingTarget,(C_Lambda)) \n",
    "TEST_PHI     = GetPhiMatrix(TestData, Mu, BigSigma, 100) \n",
    "VAL_PHI      = GetPhiMatrix(ValData, Mu, BigSigma, 100)\n",
    "\n",
    "print(Mu.shape)\n",
    "print(BigSigma.shape)\n",
    "print(TRAINING_PHI.shape)\n",
    "print(W.shape)\n",
    "print(VAL_PHI.shape)\n",
    "print(TEST_PHI.shape)"
   ]
  },
  {
   "cell_type": "code",
   "execution_count": 9,
   "metadata": {
    "scrolled": false
   },
   "outputs": [
    {
     "name": "stdout",
     "output_type": "stream",
     "text": [
      "1266\n",
      "----------Gradient Descent Solution--------------------\n",
      " \n",
      "M =  2\n",
      "Lambda  =  1 \n",
      "learningRate=  0.01\n",
      "E_rms Training   = 0.49963\n",
      "E_rms Validation = 0.49905\n",
      "E_rms Testing    = 0.49999\n",
      "Accuracy of testing data    = 50.95541\n"
     ]
    },
    {
     "data": {
      "image/png": "[encoded data removed]",
      "text/plain": [
       "<Figure size 864x864 with 1 Axes>"
      ]
     },
     "metadata": {
      "needs_background": "light"
     },
     "output_type": "display_data"
    }
   ],
   "source": [
    "#Scaling the weights because of their initial size.\n",
    "W=np.random.normal(loc = 0.0, scale = 0.02, size = (M1,))\n",
    "W_Now        = np.dot(256, W)\n",
    "La           = 1\n",
    "learningRate = 0.01\n",
    "L_Erms_Val   = []\n",
    "L_Erms_TR    = []\n",
    "L_Erms_Test  = []\n",
    "W_Mat        = []\n",
    "\n",
    "accuracy = []\n",
    "#We can iterate through all the training data.But it is time consuming task.\n",
    "#You can stop early, if weights are stagnant i.e.Erms is stagnant\n",
    "#In the python code, we observed stagnant weights after some iterations (datapoints).\n",
    "#It means we don't see any improvement in our model after some datapoints.Because of this keeping for loop from\n",
    "#1-800 or len(TrainingTarget)\n",
    "print(len(TrainingTarget));\n",
    "#selecting dataset size for hod and gsc\n",
    "loop=len(TrainingTarget);\n",
    "for i in range(0,len(TrainingTarget)):\n",
    "    \n",
    "    #print ('---------Iteration: ' + str(i) + '--------------')\n",
    "    Delta_E_D     = -np.dot((TrainingTarget[i] - 1/(1+math.exp(-np.dot(np.transpose(W_Now),TRAINING_PHI[i])))),TRAINING_PHI[i])\n",
    "    La_Delta_E_W  = np.dot(La,W_Now)\n",
    "    Delta_E       = np.add(Delta_E_D,La_Delta_E_W)    \n",
    "    Delta_W       = -np.dot(learningRate,Delta_E)\n",
    "    W_T_Next      = W_Now + Delta_W\n",
    "    W_Now         = W_T_Next\n",
    "    \n",
    "    #-----------------TrainingData Accuracy---------------------#\n",
    "    TR_TEST_OUT   = GetSigmoidValTest(TRAINING_PHI,W_T_Next) \n",
    "    Erms_TR       = GetErms(TR_TEST_OUT,TrainingTarget)\n",
    "    L_Erms_TR.append(float(Erms_TR.split(',')[1]))\n",
    "    \n",
    "    #-----------------ValidationData Accuracy---------------------#\n",
    "    VAL_TEST_OUT  = GetSigmoidValTest(VAL_PHI,W_T_Next) \n",
    "    Erms_Val      = GetErms(VAL_TEST_OUT,ValDataAct)\n",
    "    L_Erms_Val.append(float(Erms_Val.split(',')[1]))\n",
    "    \n",
    "    #-----------------TestingData Accuracy---------------------#\n",
    "    TEST_OUT      = GetSigmoidValTest(TEST_PHI,W_T_Next) \n",
    "    Erms_Test = GetErms(TEST_OUT,TestDataAct)\n",
    "    L_Erms_Test.append(float(Erms_Test.split(',')[1]))\n",
    "    accuracy.append(float(Erms_Test.split(',')[0]))\n",
    "\n",
    "print ('----------Gradient Descent Solution--------------------')\n",
    "print (\" \\nM = \",M1)\n",
    "print (\"Lambda  = \", La,\"\\nlearningRate= \",learningRate)\n",
    "print (\"E_rms Training   = \" + str(np.around(min(L_Erms_TR),5)))\n",
    "print (\"E_rms Validation = \" + str(np.around(min(L_Erms_Val),5)))\n",
    "print (\"E_rms Testing    = \" + str(np.around(min(L_Erms_Test),5)))\n",
    "print (\"Accuracy of testing data    = \" + str(np.around(max(accuracy),5)))\n",
    "\n",
    "y = L_Erms_Test\n",
    "x = []\n",
    "for i in range(0,loop):\n",
    "    x.append(i);\n",
    "#x = LaVal\n",
    "plt.figure(figsize=[12, 12])\n",
    "plt.ylabel('RMS_E')\n",
    "plt.xlabel('Data Point')\n",
    "plt.plot(x,y,marker='.')\n",
    "plt.show()"
   ]
  },
  {
   "cell_type": "code",
   "execution_count": 10,
   "metadata": {},
   "outputs": [
    {
     "data": {
      "image/png": "[encoded data removed]",
      "text/plain": [
       "<Figure size 864x864 with 1 Axes>"
      ]
     },
     "metadata": {
      "needs_background": "light"
     },
     "output_type": "display_data"
    }
   ],
   "source": [
    "y = accuracy\n",
    "x = []\n",
    "for i in range(0,loop):\n",
    "    x.append(i);\n",
    "#x = LaVal\n",
    "plt.figure(figsize=[12, 12])\n",
    "plt.ylabel('Accuaracy')\n",
    "plt.xlabel('Data Point')\n",
    "plt.plot(x,y,marker='.')\n",
    "plt.show()"
   ]
  }
 ],
 "metadata": {
  "kernelspec": {
   "display_name": "Python 3",
   "language": "python",
   "name": "python3"
  },
  "language_info": {
   "codemirror_mode": {
    "name": "ipython",
    "version": 3
   },
   "file_extension": ".py",
   "mimetype": "text/x-python",
   "name": "python",
   "nbconvert_exporter": "python",
   "pygments_lexer": "ipython3",
   "version": "3.6.3"
  }
 },
 "nbformat": 4,
 "nbformat_minor": 2
}
